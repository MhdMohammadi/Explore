{
 "cells": [
  {
   "cell_type": "code",
   "execution_count": 2,
   "id": "0b1d6928",
   "metadata": {},
   "outputs": [],
   "source": [
    "import habitat\n",
    "import matplotlib.pyplot as plt\n",
    "import os\n"
   ]
  },
  {
   "cell_type": "code",
   "execution_count": 5,
   "id": "af36b85b",
   "metadata": {},
   "outputs": [],
   "source": [
    "# This function is creating an environment based on gived inputs\n",
    "# This function is assuming that habitat-lab and project's main folder are in the same directory\n",
    "def get_environment(sim='habitat', config_path='configs/tasks/pointnav_gibson.yaml'):\n",
    "    env = None\n",
    "    if sim == 'habitat':\n",
    "        os.chdir('../habitat-lab')\n",
    "        env = habitat.Env(config=habitat.get_config(config_path))\n",
    "        env.reset()\n",
    "        os.chdir('../EPFL_Summer_Internship')\n",
    "    return env"
   ]
  },
  {
   "cell_type": "code",
   "execution_count": 9,
   "id": "101356ed",
   "metadata": {},
   "outputs": [
    {
     "data": {
      "text/plain": [
       "'/home/mmohamma/habitat-lab'"
      ]
     },
     "execution_count": 9,
     "metadata": {},
     "output_type": "execute_result"
    }
   ],
   "source": [
    "os.getcwd()"
   ]
  },
  {
   "cell_type": "code",
   "execution_count": 10,
   "id": "2c552b51",
   "metadata": {},
   "outputs": [
    {
     "name": "stderr",
     "output_type": "stream",
     "text": [
      "2022-08-09 17:46:56,048 Initializing dataset PointNav-v1\n",
      "2022-08-09 17:46:57,778 initializing sim Sim-v0\n",
      "I0809 17:47:01.507979 9057 simulator.py:221] Loaded navmesh data/scene_datasets/gibson/Roxboro.navmesh\n",
      "2022-08-09 17:47:01,513 Initializing task Nav-v0\n"
     ]
    }
   ],
   "source": [
    "env = get_environment(sim='habitat', config_path='configs/tasks/pointnav_gibson.yaml')"
   ]
  },
  {
   "cell_type": "code",
   "execution_count": null,
   "id": "744f4bc4",
   "metadata": {},
   "outputs": [],
   "source": [
    "env.action_space.sample()"
   ]
  },
  {
   "cell_type": "code",
   "execution_count": 11,
   "id": "3c9ddabb",
   "metadata": {},
   "outputs": [
    {
     "data": {
      "text/plain": [
       "{'rgb': array([[[ 94, 114, 105],\n",
       "         [ 94, 114, 104],\n",
       "         [ 94, 114, 103],\n",
       "         ...,\n",
       "         [ 82, 107, 111],\n",
       "         [ 82, 107, 111],\n",
       "         [ 82, 107, 111]],\n",
       " \n",
       "        [[ 94, 114, 105],\n",
       "         [ 94, 114, 104],\n",
       "         [ 94, 114, 103],\n",
       "         ...,\n",
       "         [ 82, 107, 111],\n",
       "         [ 82, 107, 111],\n",
       "         [ 81, 107, 111]],\n",
       " \n",
       "        [[ 94, 114, 105],\n",
       "         [ 94, 114, 104],\n",
       "         [ 94, 114, 103],\n",
       "         ...,\n",
       "         [ 81, 107, 111],\n",
       "         [ 81, 108, 112],\n",
       "         [ 80, 108, 112]],\n",
       " \n",
       "        ...,\n",
       " \n",
       "        [[ 90, 116, 117],\n",
       "         [ 91, 117, 117],\n",
       "         [ 93, 119, 118],\n",
       "         ...,\n",
       "         [ 82, 114, 127],\n",
       "         [ 82, 114, 127],\n",
       "         [ 82, 114, 127]],\n",
       " \n",
       "        [[ 90, 116, 117],\n",
       "         [ 91, 117, 118],\n",
       "         [ 93, 119, 118],\n",
       "         ...,\n",
       "         [ 82, 114, 127],\n",
       "         [ 82, 114, 127],\n",
       "         [ 82, 114, 127]],\n",
       " \n",
       "        [[ 91, 117, 118],\n",
       "         [ 92, 118, 118],\n",
       "         [ 93, 119, 118],\n",
       "         ...,\n",
       "         [ 82, 114, 127],\n",
       "         [ 82, 114, 127],\n",
       "         [ 82, 114, 127]]], dtype=uint8),\n",
       " 'pointgoal_with_gps_compass': array([ 5.5607123, -1.567663 ], dtype=float32)}"
      ]
     },
     "execution_count": 11,
     "metadata": {},
     "output_type": "execute_result"
    }
   ],
   "source": [
    "env.step(env.action_space.sample())"
   ]
  },
  {
   "cell_type": "code",
   "execution_count": 12,
   "id": "a7bd2d24",
   "metadata": {},
   "outputs": [
    {
     "data": {
      "text/plain": [
       "array([-4.8458514 ,  0.15964921,  2.8111553 ], dtype=float32)"
      ]
     },
     "execution_count": 12,
     "metadata": {},
     "output_type": "execute_result"
    }
   ],
   "source": [
    "env.sim.get_agent(0).get_state().position"
   ]
  },
  {
   "cell_type": "code",
   "execution_count": 45,
   "id": "5bfae2bf",
   "metadata": {},
   "outputs": [
    {
     "name": "stdout",
     "output_type": "stream",
     "text": [
      "(808, 898)\n"
     ]
    },
    {
     "data": {
      "image/png": "[encoded data removed]",
      "text/plain": [
       "<Figure size 432x288 with 1 Axes>"
      ]
     },
     "metadata": {
      "needs_background": "light"
     },
     "output_type": "display_data"
    }
   ],
   "source": [
    "import numpy as np\n",
    "from habitat.utils.visualizations import maps\n",
    "height = 0.1\n",
    "meters_per_pixel = 0.01\n",
    "hablab_topdown_map = maps.get_topdown_map(\n",
    "    env.sim.pathfinder, height, meters_per_pixel=meters_per_pixel\n",
    ")\n",
    "plt.imshow(hablab_topdown_map)\n",
    "print(hablab_topdown_map.shape)\n",
    "# recolor_map = np.array(\n",
    "#     [[255, 255, 255], [128, 128, 128], [0, 0, 0]], dtype=np.uint8\n",
    "# )\n",
    "# hablab_topdown_map = recolor_map[hablab_topdown_map]\n",
    "# plt.imshow(hablab_topdown_map)"
   ]
  },
  {
   "cell_type": "code",
   "execution_count": null,
   "id": "1f4a4876",
   "metadata": {},
   "outputs": [],
   "source": [
    "\n"
   ]
  }
 ],
 "metadata": {
  "kernelspec": {
   "display_name": "Python 3",
   "language": "python",
   "name": "python3"
  },
  "language_info": {
   "codemirror_mode": {
    "name": "ipython",
    "version": 3
   },
   "file_extension": ".py",
   "mimetype": "text/x-python",
   "name": "python",
   "nbconvert_exporter": "python",
   "pygments_lexer": "ipython3",
   "version": "3.6.13"
  }
 },
 "nbformat": 4,
 "nbformat_minor": 5
}
