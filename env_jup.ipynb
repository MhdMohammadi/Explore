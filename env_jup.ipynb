{
 "cells": [
  {
   "cell_type": "code",
   "execution_count": 27,
   "id": "c20e9b14",
   "metadata": {},
   "outputs": [],
   "source": [
    "from Exploration import RandomExploration\n",
    "from Environment import get_environment\n",
    "from habitat.utils.visualizations import maps\n",
    "import matplotlib.pyplot as plt\n",
    "import numpy as np"
   ]
  },
  {
   "cell_type": "code",
   "execution_count": 2,
   "id": "82cbf6f7",
   "metadata": {},
   "outputs": [
    {
     "name": "stderr",
     "output_type": "stream",
     "text": [
      "2022-08-25 12:51:38,544 Initializing dataset PointNav-v1\n",
      "2022-08-25 12:51:40,353 initializing sim Sim-v0\n",
      "I0825 12:51:44.116699 23569 simulator.py:221] Loaded navmesh data/scene_datasets/gibson/Roxboro.navmesh\n",
      "2022-08-25 12:51:44,120 Initializing task Nav-v0\n"
     ]
    }
   ],
   "source": [
    "sim = 'habitat'\n",
    "config_path = 'configs/tasks/pointnav_gibson.yaml'\n",
    "steps = 1000\n",
    "env = get_environment(sim, config_path)"
   ]
  },
  {
   "cell_type": "code",
   "execution_count": 17,
   "id": "4bac3009",
   "metadata": {},
   "outputs": [],
   "source": [
    "import plotly.io as pio\n",
    "pio.renderers.default = 'iframe_connected'"
   ]
  },
  {
   "cell_type": "code",
   "execution_count": 7,
   "id": "595ec2fd",
   "metadata": {},
   "outputs": [
    {
     "name": "stdout",
     "output_type": "stream",
     "text": [
      "0.007892060093581676\n"
     ]
    }
   ],
   "source": [
    "meters_per_pixel = maps.calculate_meters_per_pixel(map_resolution=1024, pathfinder=env.sim.pathfinder)\n",
    "print(meters_per_pixel)"
   ]
  },
  {
   "cell_type": "code",
   "execution_count": 32,
   "id": "9da594e4",
   "metadata": {},
   "outputs": [
    {
     "data": {
      "text/plain": [
       "(array([-5.247636  , -0.04035079, -1.8669614 ], dtype=float32),\n",
       " array([3.7372441, 4.230463 , 6.214508 ], dtype=float32))"
      ]
     },
     "execution_count": 32,
     "metadata": {},
     "output_type": "execute_result"
    }
   ],
   "source": [
    "env.sim.pathfinder.get_bounds()"
   ]
  },
  {
   "cell_type": "code",
   "execution_count": 59,
   "id": "f23a34a8",
   "metadata": {},
   "outputs": [
    {
     "name": "stdout",
     "output_type": "stream",
     "text": [
      "0.0 1.0\n",
      "1077 19 969 19\n"
     ]
    }
   ],
   "source": [
    "X = []\n",
    "Y = []\n",
    "seen_map = np.zeros((1200, 1200))\n",
    "for i in range(50000):\n",
    "    pos = env.sim.get_agent(0).get_state().position - env.sim.pathfinder.get_bounds()[0]\n",
    "    X.append(int(pos[0] / meters_per_pixel))\n",
    "    Y.append(int(pos[2] / meters_per_pixel))\n",
    "    seen_map[X[-1], Y[-1]] += 1\n",
    "    a = None\n",
    "    while a is None:\n",
    "        rnd = env.action_space.sample()\n",
    "        if rnd['action'] != 'STOP':\n",
    "            a = rnd\n",
    "    obs = env.step(a)\n",
    "    # if i % 10 == 0:\n",
    "    #     plt.imsave(f'images/img{i}.jpg', obs['rgb'])\n",
    "seen_map = np.log(seen_map+1)\n",
    "seen_map = seen_map / seen_map.max()\n",
    "print(seen_map.min(), seen_map.max())\n",
    "plt.imsave(f'images/seen_map.jpg', seen_map)\n",
    "print(np.max(X), np.min(X), np.max(Y), np.min(Y))"
   ]
  },
  {
   "cell_type": "code",
   "execution_count": 45,
   "id": "cb3d40bb",
   "metadata": {},
   "outputs": [
    {
     "data": {
      "image/png": "[encoded data removed]",
      "text/plain": [
       "<Figure size 432x288 with 1 Axes>"
      ]
     },
     "metadata": {
      "needs_background": "light"
     },
     "output_type": "display_data"
    }
   ],
   "source": [
    "plt.imshow(seen_map)\n",
    "plt.show()"
   ]
  },
  {
   "cell_type": "code",
   "execution_count": 66,
   "id": "b9c9ba4b",
   "metadata": {},
   "outputs": [
    {
     "name": "stdout",
     "output_type": "stream",
     "text": [
      "(1024, 1138) 2 0\n"
     ]
    }
   ],
   "source": [
    "hablab_topdown_map = maps.get_topdown_map(\n",
    "    env.sim.pathfinder, 0.3, meters_per_pixel=meters_per_pixel\n",
    ")\n",
    "print(hablab_topdown_map.shape ,hablab_topdown_map.max(), hablab_topdown_map.min())"
   ]
  },
  {
   "cell_type": "code",
   "execution_count": 10,
   "id": "5bfae2bf",
   "metadata": {},
   "outputs": [
    {
     "name": "stdout",
     "output_type": "stream",
     "text": [
      "(808, 898)\n"
     ]
    },
    {
     "data": {
      "image/png": "[encoded data removed]",
      "text/plain": [
       "<Figure size 432x288 with 1 Axes>"
      ]
     },
     "metadata": {
      "needs_background": "light"
     },
     "output_type": "display_data"
    }
   ],
   "source": [
    "import numpy as np\n",
    "from habitat.utils.visualizations import maps\n",
    "height = 0.1\n",
    "meters_per_pixel = 0.01\n",
    "hablab_topdown_map = maps.get_topdown_map(\n",
    "    env.sim.pathfinder, height, meters_per_pixel=meters_per_pixel\n",
    ")\n",
    "plt.imshow(hablab_topdown_map)\n",
    "print(hablab_topdown_map.shape)\n",
    "# recolor_map = np.array(\n",
    "#     [[255, 255, 255], [128, 128, 128], [0, 0, 0]], dtype=np.uint8\n",
    "# )\n",
    "# hablab_topdown_map = recolor_map[hablab_topdown_map]\n",
    "# plt.imshow(hablab_topdown_map)"
   ]
  },
  {
   "cell_type": "code",
   "execution_count": 11,
   "id": "1f4a4876",
   "metadata": {},
   "outputs": [],
   "source": [
    "top_down_map = maps.get_topdown_map_from_sim(\n",
    "    env.sim, map_resolution=1024\n",
    ")\n",
    "# meters_per_pixel = maps.calculate_meters_per_pixel(map_resolution=1024, pathfinder=env.sim.pathfinder)\n",
    "# print(meters_per_pixel)\n",
    "# plt.imshow(top_down_map)\n",
    "# im = Image.fromarray(top_down_map * 255)\n",
    "# im.save(os.path.join(EXP_DIR, 'top_down_map.png'))\n",
    "# local_map = np.zeros(top_down_map.shape)\n"
   ]
  },
  {
   "cell_type": "code",
   "execution_count": 12,
   "id": "0e1a756f",
   "metadata": {},
   "outputs": [
    {
     "data": {
      "text/plain": [
       "<matplotlib.image.AxesImage at 0x7f33d2e53080>"
      ]
     },
     "execution_count": 12,
     "metadata": {},
     "output_type": "execute_result"
    },
    {
     "data": {
      "image/png": "[encoded data removed]",
      "text/plain": [
       "<Figure size 432x288 with 1 Axes>"
      ]
     },
     "metadata": {
      "needs_background": "light"
     },
     "output_type": "display_data"
    }
   ],
   "source": [
    "plt.imshow(top_down_map)"
   ]
  },
  {
   "cell_type": "code",
   "execution_count": null,
   "id": "4963cb22",
   "metadata": {},
   "outputs": [],
   "source": [
    "env.sim.get_agent(0).get_state()"
   ]
  },
  {
   "cell_type": "code",
   "execution_count": null,
   "id": "bb76d4fa",
   "metadata": {},
   "outputs": [],
   "source": [
    "env.reset()\n",
    "for i in range(10000):\n",
    "    env.step(env.action_space.sample())\n",
    "#     if i % 500 == 0:\n",
    "    plt.imshow(env.render())\n",
    "\n"
   ]
  },
  {
   "cell_type": "code",
   "execution_count": null,
   "id": "49c0dd4c",
   "metadata": {},
   "outputs": [],
   "source": []
  }
 ],
 "metadata": {
  "kernelspec": {
   "display_name": "Python 3.6.13 ('behavior': conda)",
   "language": "python",
   "name": "python3"
  },
  "language_info": {
   "codemirror_mode": {
    "name": "ipython",
    "version": 3
   },
   "file_extension": ".py",
   "mimetype": "text/x-python",
   "name": "python",
   "nbconvert_exporter": "python",
   "pygments_lexer": "ipython3",
   "version": "3.6.13"
  },
  "vscode": {
   "interpreter": {
    "hash": "288fc67e938985550384e76fa4325b988d1de63ed7daa959baff1782c7ec3759"
   }
  }
 },
 "nbformat": 4,
 "nbformat_minor": 5
}
